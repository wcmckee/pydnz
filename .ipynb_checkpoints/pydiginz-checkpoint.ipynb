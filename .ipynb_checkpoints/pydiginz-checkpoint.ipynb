{
 "cells": [
  {
   "cell_type": "code",
   "execution_count": 33,
   "metadata": {
    "collapsed": true
   },
   "outputs": [],
   "source": [
    "from pydnz import Dnz\n",
    "\n",
    "import random"
   ]
  },
  {
   "cell_type": "code",
   "execution_count": 182,
   "metadata": {
    "collapsed": true
   },
   "outputs": [],
   "source": [
    "opapdnz = open('/home/wcmckee/dignz.txt', 'r')"
   ]
  },
  {
   "cell_type": "markdown",
   "metadata": {},
   "source": [
    "Normall with api keys i can save it in a txt file, read it and\n",
    "get the key. \n",
    "With digitalnz it seems to accept a raw string but error \n",
    "if i give it a "
   ]
  },
  {
   "cell_type": "code",
   "execution_count": 187,
   "metadata": {
    "collapsed": false
   },
   "outputs": [],
   "source": [
    "opeza = opapdnz.read()"
   ]
  },
  {
   "cell_type": "code",
   "execution_count": 188,
   "metadata": {
    "collapsed": false
   },
   "outputs": [
    {
     "ename": "ValueError",
     "evalue": "DigitalNZ API requires an api key.",
     "output_type": "error",
     "traceback": [
      "\u001b[1;31m---------------------------------------------------------------------------\u001b[0m",
      "\u001b[1;31mValueError\u001b[0m                                Traceback (most recent call last)",
      "\u001b[1;32m<ipython-input-188-5f9c96e17e6e>\u001b[0m in \u001b[0;36m<module>\u001b[1;34m()\u001b[0m\n\u001b[1;32m----> 1\u001b[1;33m \u001b[0mdnz\u001b[0m \u001b[1;33m=\u001b[0m \u001b[0mDnz\u001b[0m\u001b[1;33m(\u001b[0m\u001b[0mopeza\u001b[0m\u001b[1;33m)\u001b[0m\u001b[1;33m\u001b[0m\u001b[0m\n\u001b[0m",
      "\u001b[1;32m/home/wcmckee/github/pydnz/pydnz.py\u001b[0m in \u001b[0;36m__init__\u001b[1;34m(self, api_key, quiet)\u001b[0m\n\u001b[0;32m     10\u001b[0m             \u001b[0mself\u001b[0m\u001b[1;33m.\u001b[0m\u001b[0mapi_key\u001b[0m \u001b[1;33m=\u001b[0m \u001b[0mapi_key\u001b[0m\u001b[1;33m\u001b[0m\u001b[0m\n\u001b[0;32m     11\u001b[0m         \u001b[1;32melse\u001b[0m\u001b[1;33m:\u001b[0m\u001b[1;33m\u001b[0m\u001b[0m\n\u001b[1;32m---> 12\u001b[1;33m             \u001b[1;32mraise\u001b[0m \u001b[0mValueError\u001b[0m\u001b[1;33m(\u001b[0m\u001b[1;34m'DigitalNZ API requires an api key.'\u001b[0m\u001b[1;33m)\u001b[0m\u001b[1;33m\u001b[0m\u001b[0m\n\u001b[0m\u001b[0;32m     13\u001b[0m         \u001b[0mself\u001b[0m\u001b[1;33m.\u001b[0m\u001b[0mquiet\u001b[0m\u001b[1;33m=\u001b[0m\u001b[0mquiet\u001b[0m\u001b[1;33m\u001b[0m\u001b[0m\n\u001b[0;32m     14\u001b[0m \u001b[1;33m\u001b[0m\u001b[0m\n",
      "\u001b[1;31mValueError\u001b[0m: DigitalNZ API requires an api key."
     ]
    }
   ],
   "source": [
    "dnz = Dnz(opeza)"
   ]
  },
  {
   "cell_type": "code",
   "execution_count": 113,
   "metadata": {
    "collapsed": true
   },
   "outputs": [],
   "source": [
    "opapdnz.close()"
   ]
  },
  {
   "cell_type": "code",
   "execution_count": 168,
   "metadata": {
    "collapsed": false
   },
   "outputs": [],
   "source": [
    "debsnz =  dnz.search('levin')"
   ]
  },
  {
   "cell_type": "code",
   "execution_count": 169,
   "metadata": {
    "collapsed": false
   },
   "outputs": [],
   "source": [
    "deblenz = len(debsnz.records)"
   ]
  },
  {
   "cell_type": "code",
   "execution_count": 170,
   "metadata": {
    "collapsed": false
   },
   "outputs": [],
   "source": [
    "randinz = random.randint(0, deblenz)"
   ]
  },
  {
   "cell_type": "code",
   "execution_count": 171,
   "metadata": {
    "collapsed": true
   },
   "outputs": [],
   "source": [
    "import os\n",
    "import ntpath"
   ]
  },
  {
   "cell_type": "code",
   "execution_count": 172,
   "metadata": {
    "collapsed": false
   },
   "outputs": [],
   "source": [
    "debranzi = debsnz.records[randinz]"
   ]
  },
  {
   "cell_type": "code",
   "execution_count": 176,
   "metadata": {
    "collapsed": false
   },
   "outputs": [],
   "source": [
    "debsourlurl = debranzi['source_url']\n",
    "debsourtitle = debranzi['title']\n",
    "debsourcirc = debranzi['citation']\n",
    "debsourdesc = debranzi['description']\n",
    "debsourlandurl = debranzi['landing_url']\n",
    "debsourcopy = debranzi['copyright']\n",
    "debsourprov = debranzi['relation']\n",
    "#debsourtype = debranzi['type']\n",
    "debsour = debranzi"
   ]
  },
  {
   "cell_type": "code",
   "execution_count": 177,
   "metadata": {
    "collapsed": false
   },
   "outputs": [
    {
     "name": "stdout",
     "output_type": "stream",
     "text": [
      "{u'display_date': u'May 1951', u'provenance': None, u'table_of_contents': None, u'has_version': [], u'creator': [u'Not specified'], u'text': None, u'primary_collection': [u'TAPUHI'], u'updated_at': u'2015-06-18T17:32:17.435+12:00', u'additional_description': [], u'tag': [], u'relation': [u'Whites Aviation Ltd :Photographs', u'PA-Group-00080', u'tap:1117372'], u'collection_title': [u'Whites Aviation Ltd :Photographs', u'TAPUHI', u'Photographic Archive'], u'contributor': [], u'is_commercial_use': None, u'id': 22299685, u'category': [u'Images'], u'shelf_location': u'WA-28741-G', u'is_replaced_by': None, u'copyright': [u'Unknown'], u'title': u'Levin', u'dnz_type': u'Artwork', u'large_thumbnail_url': u'http://ndhadeliver.natlib.govt.nz/NLNZStreamGate/get?dps_pid=IE7381290', u'display_content_partner': u'Alexander Turnbull Library', u'source': [], u'holding': [], u'object_url': None, u'usage': [u'Unknown'], u'license': None, u'dc_identifier': [u'ndha:IE7381290', u'tap:1445335', u'urn:nbn:nz:wtu:WA-28741-G', u'WA-28741-G'], u'syndication_date': u'2013-04-02T11:27:03.096+13:00', u'fulltext': None, u'citation': [], u'eprints_type': [], u'description': u'Aerial photograph taken by Whites Aviation.\\nQuantity: 1 b&w original negative(s).\\nPhysical Description: Glass negative, 4.75 x 6.5 inches', u'format': [u'1 b&w original negative(s)', u'Single negative', u'Glass negative, 4.75 x 6.5 inches'], u'metadata_url': None, u'published_date': [], u'collection': [u'Whites Aviation Ltd :Photographs', u'TAPUHI', u'Photographic Archive'], u'source_url': u'http://api.digitalnz.org/records/22299685/source', u'replaces': None, u'thesis_level': None, u'alternate_title': [], u'date': [u'1951-01-01T12:00:00Z'], u'is_part_of': [u'Whites Aviation Ltd :Photographs', u'PA-Group-00080', u'tap:1117372'], u'is_required_by': None, u'is_version_of': None, u'publisher': [], u'contributing_partner': [], u'dc_type': [u'Item'], u'language': [u'en'], u'rights': None, u'created_at': u'2012-04-20T23:59:37.000+12:00', u'landing_url': u'http://natlib.govt.nz/records/22299685', u'credit_creator': None, u'library_collection': [u'Photographic Archive'], u'thumbnail_url': u'http://ndhadeliver.natlib.govt.nz/delivery/DeliveryManagerServlet?dps_pid=IE7381290&dps_func=thumbnail', u'rights_url': [], u'content_partner': [u'Alexander Turnbull Library'], u'display_collection': u'TAPUHI', u'origin_url': u'http://tapuhi.natlib.govt.nz/cgi-bin/spydus/NAV/GLOBAL/OPHDR/1/1445335'}\n"
     ]
    }
   ],
   "source": [
    "print debsour"
   ]
  },
  {
   "cell_type": "code",
   "execution_count": 178,
   "metadata": {
    "collapsed": false
   },
   "outputs": [
    {
     "name": "stdout",
     "output_type": "stream",
     "text": [
      "http://api.digitalnz.org/records/22299685/source\n",
      "Levin\n",
      "[]\n",
      "Aerial photograph taken by Whites Aviation.\n",
      "Quantity: 1 b&w original negative(s).\n",
      "Physical Description: Glass negative, 4.75 x 6.5 inches\n",
      "http://natlib.govt.nz/records/22299685\n",
      "[u'Unknown']\n",
      "[u'Whites Aviation Ltd :Photographs', u'PA-Group-00080', u'tap:1117372']\n"
     ]
    }
   ],
   "source": [
    "print debsourlurl\n",
    "print debsourtitle\n",
    "print debsourcirc\n",
    "print debsourdesc\n",
    "print debsourlandurl\n",
    "print debsourcopy\n",
    "print debsourprov"
   ]
  },
  {
   "cell_type": "code",
   "execution_count": 179,
   "metadata": {
    "collapsed": false
   },
   "outputs": [
    {
     "name": "stdout",
     "output_type": "stream",
     "text": [
      "Whites Aviation Ltd :Photographs\n",
      "PA-Group-00080\n",
      "tap:1117372\n"
     ]
    }
   ],
   "source": [
    "for somimp in debsourprov:\n",
    "    #I could wget this url and filter \n",
    "    #for the jpg or mp4 etc.\n",
    "    print somimp"
   ]
  },
  {
   "cell_type": "code",
   "execution_count": null,
   "metadata": {
    "collapsed": true
   },
   "outputs": [],
   "source": [
    "doc = dominate.document(title='educations-counts-data')\n",
    "\n",
    "with doc.head:\n",
    "    link(rel='stylesheet', href='style.css')\n",
    "    script(type='text/javascript', src='script.js')\n",
    "\n",
    "with doc:\n",
    "    #with div(id='header').add(ol()):\n",
    "        #for i in ['home', 'about', 'contact']:\n",
    "            #li(a(i.title(), href='/%s.html' % i))\n",
    "\n",
    "    with div(cls='row'):\n",
    "        h1('education-counts-data')\n",
    "        for sorx in sorted_x:\n",
    "            a(dominate.tags.p(sorx[0]), href = sorx[1])\n",
    "        #for fil in files:\n",
    "            #gied = afi.text\n",
    "            #gifz = gied.replace(' ', '-')\n",
    "            #giflow = gifz.lower()\n",
    "            #a(dominate.tags.p(fil), href = fil)\n",
    "\n",
    "#print doc"
   ]
  },
  {
   "cell_type": "code",
   "execution_count": 145,
   "metadata": {
    "collapsed": true
   },
   "outputs": [],
   "source": [
    "if debsourcopy == \"[u'Some rights reserved']\":\n",
    "    print 'Some rights are reserved for this'"
   ]
  },
  {
   "cell_type": "markdown",
   "metadata": {},
   "source": [
    "get info on this url. \n",
    "How can I get just the ID from url? Search ID on digitalNZ."
   ]
  },
  {
   "cell_type": "code",
   "execution_count": 81,
   "metadata": {
    "collapsed": true
   },
   "outputs": [],
   "source": [
    "filenam = os.path.splitext(debsourlurl)\n"
   ]
  },
  {
   "cell_type": "code",
   "execution_count": 82,
   "metadata": {
    "collapsed": false
   },
   "outputs": [
    {
     "data": {
      "text/plain": [
       "(u'http://api.digitalnz.org/records/35441445/source', '')"
      ]
     },
     "execution_count": 82,
     "metadata": {},
     "output_type": "execute_result"
    }
   ],
   "source": [
    "filenam"
   ]
  },
  {
   "cell_type": "code",
   "execution_count": 83,
   "metadata": {
    "collapsed": false
   },
   "outputs": [],
   "source": [
    "#npach = ntpath.basename(debsourlurl)\n",
    "\n",
    "npach = ntpath.split(debsourlurl)"
   ]
  },
  {
   "cell_type": "code",
   "execution_count": 84,
   "metadata": {
    "collapsed": false
   },
   "outputs": [
    {
     "data": {
      "text/plain": [
       "(u'http://api.digitalnz.org/records/35441445', u'source')"
      ]
     },
     "execution_count": 84,
     "metadata": {},
     "output_type": "execute_result"
    }
   ],
   "source": [
    "npach"
   ]
  },
  {
   "cell_type": "code",
   "execution_count": 85,
   "metadata": {
    "collapsed": false
   },
   "outputs": [
    {
     "name": "stdout",
     "output_type": "stream",
     "text": [
      "http://api.digitalnz.org/records/35441445\n",
      "source\n"
     ]
    }
   ],
   "source": [
    "for npa in npach:\n",
    "    print npa"
   ]
  },
  {
   "cell_type": "code",
   "execution_count": null,
   "metadata": {
    "collapsed": true
   },
   "outputs": [],
   "source": []
  }
 ],
 "metadata": {
  "kernelspec": {
   "display_name": "Python 2",
   "name": "python2"
  },
  "language_info": {
   "codemirror_mode": {
    "name": "ipython",
    "version": 2
   },
   "file_extension": ".py",
   "mimetype": "text/x-python",
   "name": "python",
   "nbconvert_exporter": "python",
   "pygments_lexer": "ipython2",
   "version": "2.7.9"
  }
 },
 "nbformat": 4,
 "nbformat_minor": 0
}
